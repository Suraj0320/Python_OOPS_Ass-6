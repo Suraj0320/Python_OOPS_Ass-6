{
 "cells": [
  {
   "cell_type": "markdown",
   "id": "0d10df59-5b85-4fae-9442-2b9e6b6dfd70",
   "metadata": {},
   "source": [
    "Problem 1: Bank Account Create a class representing a bank account with attributes like account number, \n",
    "account holder name, and balance. Implement methods to deposit and withdraw money from the account."
   ]
  },
  {
   "cell_type": "code",
   "execution_count": 1,
   "id": "a6b2e88d-90ec-402d-a4e5-e5e09388e34c",
   "metadata": {},
   "outputs": [],
   "source": [
    "class bank:\n",
    "    def openaccount (self,name,account_no,balance):\n",
    "        self.name = name\n",
    "        self.account_no = account_no\n",
    "        self.balance = balance\n",
    "        \n",
    "    def deposite(self,amount):\n",
    "        if amount>0:\n",
    "            self.balance += amount\n",
    "            return f\"Deposite Amount : {amount} and New Balance : {self.balance}\"\n",
    "        else:\n",
    "            return \"Invalid Deposit Amount\"\n",
    "    \n",
    "    def withdraw(self,amount):\n",
    "        if amount>0 and amount< self.balance:\n",
    "            self.balance -= amount\n",
    "            return f\"Deposite Amount : {amount} and New Balance : {self.balance}\"\n",
    "        else:\n",
    "            return \"Insufficient Balance\"\n",
    "\n",
    "suraj = bank()"
   ]
  },
  {
   "cell_type": "code",
   "execution_count": 2,
   "id": "3e1fa7bb-b82a-4b69-ac01-b9d0a54119ee",
   "metadata": {},
   "outputs": [],
   "source": [
    "suraj.openaccount(\"Suraj\",45654,50000)"
   ]
  },
  {
   "cell_type": "code",
   "execution_count": 3,
   "id": "48d8099f-c488-44ee-8457-51b41f975941",
   "metadata": {},
   "outputs": [
    {
     "data": {
      "text/plain": [
       "'Deposite Amount : 5000 and New Balance : 55000'"
      ]
     },
     "execution_count": 3,
     "metadata": {},
     "output_type": "execute_result"
    }
   ],
   "source": [
    "suraj.deposite(5000)"
   ]
  },
  {
   "cell_type": "code",
   "execution_count": 4,
   "id": "edc3662e-f623-48e9-a5c9-dd05c7846c92",
   "metadata": {},
   "outputs": [
    {
     "data": {
      "text/plain": [
       "'Deposite Amount : 5000 and New Balance : 50000'"
      ]
     },
     "execution_count": 4,
     "metadata": {},
     "output_type": "execute_result"
    }
   ],
   "source": [
    "suraj.withdraw(5000)"
   ]
  },
  {
   "cell_type": "markdown",
   "id": "2029fc11-831f-459a-8c8c-30e8da07fa00",
   "metadata": {},
   "source": [
    "Problem 2: Employee Management Create a class representing an employee with attributes like employee ID, name, and salary. Implement methods to \n",
    "calculate the yearly bonus and display employee details."
   ]
  },
  {
   "cell_type": "code",
   "execution_count": 5,
   "id": "deab3b76-c8ba-4de1-8141-5a778b6e859b",
   "metadata": {},
   "outputs": [],
   "source": [
    "class Employee:\n",
    "    def __init__(self,name,emp_id,salary):\n",
    "        self.name = name\n",
    "        self.emp_id = emp_id\n",
    "        self.salary = salary\n",
    "        \n",
    "    def details(self):\n",
    "        return f\"Name: {self.name} Employee Id: {self.emp_id} Salary: {self.salary}\"\n",
    "    \n",
    "    def cal_bonus(self):\n",
    "        bonus = 0.10\n",
    "        yearly_salary = self.salary + (self.salary * bonus)\n",
    "        return yearly_salary\n",
    "    \n",
    "suraj = Employee(\"Suraj\",123,50000)"
   ]
  },
  {
   "cell_type": "code",
   "execution_count": 6,
   "id": "b4326b62-7d28-43bb-9653-74b5a0689bee",
   "metadata": {},
   "outputs": [
    {
     "data": {
      "text/plain": [
       "'Name: Suraj Employee Id: 123 Salary: 50000'"
      ]
     },
     "execution_count": 6,
     "metadata": {},
     "output_type": "execute_result"
    }
   ],
   "source": [
    "suraj.details()"
   ]
  },
  {
   "cell_type": "code",
   "execution_count": 7,
   "id": "7906c044-59ea-40cc-a522-36a8fc02f91a",
   "metadata": {},
   "outputs": [
    {
     "data": {
      "text/plain": [
       "55000.0"
      ]
     },
     "execution_count": 7,
     "metadata": {},
     "output_type": "execute_result"
    }
   ],
   "source": [
    "suraj.cal_bonus()"
   ]
  },
  {
   "cell_type": "markdown",
   "id": "a3fa5112-be0c-4c0b-87d8-c02cdf89168f",
   "metadata": {},
   "source": [
    "Problem 3: Vehicle Rental Create a class representing a vehicle rental system. Implement methods to\n",
    "rent a vehicle, return a vehicle, and display available vehicles."
   ]
  },
  {
   "cell_type": "code",
   "execution_count": 8,
   "id": "b8460d38-72a3-407f-9454-98a5fca2986a",
   "metadata": {},
   "outputs": [
    {
     "name": "stdout",
     "output_type": "stream",
     "text": [
      "Vehicle 1 (Sedan) is available.\n",
      "Vehicle 2 (SUV) is available.\n",
      "Vehicle 1 (Sedan) has been rented.\n",
      "Vehicle 2 (SUV) is available.\n",
      "Vehicle 1 (Sedan) has been returned.\n",
      "Vehicle 1 (Sedan) is available.\n",
      "Vehicle 2 (SUV) is available.\n"
     ]
    }
   ],
   "source": [
    "class Vehicle:\n",
    "    def __init__(self, vehicle_id, model, is_available=True):\n",
    "        self.vehicle_id = vehicle_id\n",
    "        self.model = model\n",
    "        self.is_available = is_available\n",
    "\n",
    "    def rent(self):\n",
    "        if self.is_available:\n",
    "            self.is_available = False\n",
    "            return f\"Vehicle {self.vehicle_id} ({self.model}) has been rented.\"\n",
    "        else:\n",
    "            return f\"Vehicle {self.vehicle_id} ({self.model}) is not available for rent.\"\n",
    "\n",
    "    def return_vehicle(self):\n",
    "        if not self.is_available:\n",
    "            self.is_available = True\n",
    "            return f\"Vehicle {self.vehicle_id} ({self.model}) has been returned.\"\n",
    "        else:\n",
    "            return f\"Vehicle {self.vehicle_id} ({self.model}) is already available.\"\n",
    "\n",
    "class VehicleRentalSystem:\n",
    "    def __init__(self):\n",
    "        self.vehicles = []\n",
    "\n",
    "    def add_vehicle(self, vehicle):\n",
    "        self.vehicles.append(vehicle)\n",
    "\n",
    "    def display_available_vehicles(self):\n",
    "        available_vehicles = [vehicle for vehicle in self.vehicles if vehicle.is_available]\n",
    "        if available_vehicles:\n",
    "            return \"\\n\".join([f\"Vehicle {vehicle.vehicle_id} ({vehicle.model}) is available.\" for vehicle in available_vehicles])\n",
    "        else:\n",
    "            return \"No vehicles are currently available.\"\n",
    "\n",
    "# Example usage:\n",
    "vehicle1 = Vehicle(vehicle_id=1, model=\"Sedan\")\n",
    "vehicle2 = Vehicle(vehicle_id=2, model=\"SUV\")\n",
    "\n",
    "rental_system = VehicleRentalSystem()\n",
    "rental_system.add_vehicle(vehicle1)\n",
    "rental_system.add_vehicle(vehicle2)\n",
    "\n",
    "print(rental_system.display_available_vehicles())\n",
    "\n",
    "print(vehicle1.rent())\n",
    "print(rental_system.display_available_vehicles())\n",
    "\n",
    "print(vehicle1.return_vehicle())\n",
    "print(rental_system.display_available_vehicles())\n"
   ]
  },
  {
   "cell_type": "markdown",
   "id": "8afb04cb-22e8-4b29-9a97-dda88a81dcd3",
   "metadata": {},
   "source": [
    "Problem 4: Library Catalog Create classes representing a library and a book. Implement methods to \n",
    "add books to the library, borrow books, and display available books."
   ]
  },
  {
   "cell_type": "code",
   "execution_count": 9,
   "id": "681a1c89-1e19-4f8f-9fcb-25244ea5e3bb",
   "metadata": {},
   "outputs": [
    {
     "name": "stdout",
     "output_type": "stream",
     "text": [
      "Book 1 (The Great Gatsby) is available.\n",
      "Book 2 (To Kill a Mockingbird) is available.\n",
      "Book id: 1 Title Name: The Great Gatsby is not available\n",
      "Book 2 (To Kill a Mockingbird) is available.\n"
     ]
    },
    {
     "data": {
      "text/plain": [
       "'Book id: 1 Title Name: The Great Gatsby is returned.'"
      ]
     },
     "execution_count": 9,
     "metadata": {},
     "output_type": "execute_result"
    }
   ],
   "source": [
    "class Book:\n",
    "    def __init__(self, book_id, book_title, is_available=True):\n",
    "        self.book_id = book_id\n",
    "        self.book_title = book_title\n",
    "        self.is_available = is_available\n",
    "\n",
    "    def borrow(self):\n",
    "        if self.is_available:\n",
    "            self.is_available = False\n",
    "            return f\"Book id: {self.book_id} Title Name: {self.book_title} is not available\"\n",
    "        else:\n",
    "            return \"Book is available\"\n",
    "\n",
    "    def return_book(self):\n",
    "        if not self.is_available:\n",
    "            self.is_available = True\n",
    "            return f\"Book id: {self.book_id} Title Name: {self.book_title} is returned.\"\n",
    "        else:\n",
    "            return \"Book not returned\"\n",
    "\n",
    "class Library:\n",
    "    def __init__(self):\n",
    "        self.books = []\n",
    "\n",
    "    def add_books(self, book):\n",
    "        self.books.append(book)\n",
    "\n",
    "    def display_book(self):\n",
    "        available_books = [book for book in self.books if book.is_available]\n",
    "        if available_books:\n",
    "            return \"\\n\".join([f\"Book {book.book_id} ({book.book_title}) is available.\" for book in available_books])\n",
    "        else:\n",
    "            return \"No such books are currently available.\"\n",
    "\n",
    "# Create book objects and add them to the library\n",
    "book1 = Book(book_id=1, book_title=\"The Great Gatsby\")\n",
    "book2 = Book(book_id=2, book_title=\"To Kill a Mockingbird\")\n",
    "\n",
    "library = Library()\n",
    "library.add_books(book1)\n",
    "library.add_books(book2)\n",
    "\n",
    "# Display available books before borrowing\n",
    "print(library.display_book())\n",
    "\n",
    "# Borrow a book and display the result\n",
    "result = book1.borrow()\n",
    "print(result)\n",
    "\n",
    "# Display available books after borrowing\n",
    "print(library.display_book())\n",
    "\n",
    "book1.return_book()"
   ]
  },
  {
   "cell_type": "markdown",
   "id": "30b15f2f-0a9c-4149-931c-cde53ba8809b",
   "metadata": {},
   "source": [
    "Problem 5: Product Inventory Create classes representing a product and an inventory system. Implement methods to\n",
    "add products to the inventory, update product quantity, and display available products."
   ]
  },
  {
   "cell_type": "code",
   "execution_count": 10,
   "id": "fed8db70-1d94-42dc-bb94-d432806d75c1",
   "metadata": {},
   "outputs": [
    {
     "name": "stdout",
     "output_type": "stream",
     "text": [
      "Product ID: 1\n",
      "Name: Laptop\n",
      "Price: $1000\n",
      "Quantity: 10\n",
      "\n",
      "Product ID: 2\n",
      "Name: Smartphone\n",
      "Price: $500\n",
      "Quantity: 20\n",
      "Quantity for Laptop (ID: 1) updated to 10.\n",
      "Product ID: 1\n",
      "Name: Laptop\n",
      "Price: $1000\n",
      "Quantity: 10\n",
      "\n",
      "Product ID: 2\n",
      "Name: Smartphone\n",
      "Price: $500\n",
      "Quantity: 20\n"
     ]
    }
   ],
   "source": [
    "class Product:\n",
    "    def __init__(self, product_id, name, price, quantity):\n",
    "        self.product_id = product_id\n",
    "        self.name = name\n",
    "        self.price = price\n",
    "        self.quantity = quantity\n",
    "\n",
    "    def update_quantity(self, new_quantity):\n",
    "        if new_quantity >= 0:\n",
    "            self.quantity == new_quantity\n",
    "            return f\"Quantity for {self.name} (ID: {self.product_id}) updated to {self.quantity}.\"\n",
    "        else:\n",
    "            return \"Invalid quantity. Please provide a non-negative value.\"\n",
    "\n",
    "    def __str__(self):\n",
    "        return f\"Product ID: {self.product_id}\\nName: {self.name}\\nPrice: ${self.price}\\nQuantity: {self.quantity}\"\n",
    "\n",
    "\n",
    "class InventorySystem:\n",
    "    def __init__(self):\n",
    "        self.products = []\n",
    "\n",
    "    def add_product(self, product):\n",
    "        self.products.append(product)\n",
    "\n",
    "    def display_available_products(self):\n",
    "        if self.products:\n",
    "            return \"\\n\\n\".join([str(product) for product in self.products])\n",
    "        else:\n",
    "            return \"No products in the inventory.\"\n",
    "\n",
    "# Example usage:\n",
    "product1 = Product(product_id=1, name=\"Laptop\", price=1000, quantity=10)\n",
    "product2 = Product(product_id=2, name=\"Smartphone\", price=500, quantity=20)\n",
    "\n",
    "inventory_system = InventorySystem()\n",
    "inventory_system.add_product(product1)\n",
    "inventory_system.add_product(product2)\n",
    "\n",
    "print(inventory_system.display_available_products())\n",
    "\n",
    "# Update quantity of product1\n",
    "print(product1.update_quantity(5))\n",
    "\n",
    "# Display available products after update\n",
    "print(inventory_system.display_available_products())\n"
   ]
  },
  {
   "cell_type": "markdown",
   "id": "4645d25b-8dfd-4a1d-b133-4a4893e04fde",
   "metadata": {},
   "source": [
    "Problem 6: Shape Calculation Create a class representing a shape with attributes like length, width, and height. Implement methods to calculate the area and perimeter of the shape."
   ]
  },
  {
   "cell_type": "code",
   "execution_count": 11,
   "id": "8b180997-d8c3-4522-8174-99efbcf26369",
   "metadata": {},
   "outputs": [
    {
     "name": "stdout",
     "output_type": "stream",
     "text": [
      "Rectangle Area: 20\n",
      "Rectangle Perimeter: 18\n",
      "Area of Square: 25\n",
      "Perimeter of Square: 20\n",
      "Area of Triangle: 10.0\n",
      "Perimeter of Triangle: 16\n"
     ]
    }
   ],
   "source": [
    "class Calculation:\n",
    "    def __init__(self, length, width, height):\n",
    "        self.length = length\n",
    "        self.width = width\n",
    "        self.height = height\n",
    "\n",
    "class Rectangle(Calculation):\n",
    "    def __init__(self, length, width):\n",
    "        super().__init__(length, width,0)  \n",
    "\n",
    "    def calculate_area(self):\n",
    "        return self.length * self.width\n",
    "\n",
    "    def calculate_perimeter(self):\n",
    "        return 2 * (self.length + self.width)\n",
    "\n",
    "\n",
    "class Square(Rectangle):\n",
    "    def __init__(self, side):\n",
    "        super().__init__(side, side)  \n",
    "\n",
    "\n",
    "class Triangle(Rectangle):\n",
    "    def __init__(self, height, base, side1, side2, side3):\n",
    "        super().__init__(height, base)  \n",
    "        self.side1 = side1\n",
    "        self.side2 = side2\n",
    "        self.side3 = side3\n",
    "\n",
    "    def calculate_area(self):\n",
    "        return 0.5 * self.length * self.width\n",
    "\n",
    "    def calculate_perimeter(self):\n",
    "        return self.side1 + self.side2 + self.side3\n",
    "\n",
    "\n",
    "# Example usage:\n",
    "rectangle = Rectangle(4, 5)\n",
    "print(\"Rectangle Area:\", rectangle.calculate_area())\n",
    "print(\"Rectangle Perimeter:\", rectangle.calculate_perimeter())\n",
    "\n",
    "square = Square(5)\n",
    "print(\"Area of Square:\", square.calculate_area())\n",
    "print(\"Perimeter of Square:\", square.calculate_perimeter())\n",
    "\n",
    "triangle = Triangle(4, 5, 7, 5, 4)\n",
    "print(\"Area of Triangle:\", triangle.calculate_area())\n",
    "print(\"Perimeter of Triangle:\", triangle.calculate_perimeter())\n"
   ]
  },
  {
   "cell_type": "markdown",
   "id": "ccda8bd8-ad35-4f71-864d-9a5414b01b0b",
   "metadata": {},
   "source": [
    "Problem 7: Student Management Create a class representing a student with attributes like student ID, name, and grades. Implement methods to calculate the average grade and display student details."
   ]
  },
  {
   "cell_type": "code",
   "execution_count": 12,
   "id": "549d9d05-25da-4eaa-933d-024c0e659f32",
   "metadata": {},
   "outputs": [
    {
     "name": "stdout",
     "output_type": "stream",
     "text": [
      "Average Grade: 85.0\n",
      "Student Detail: Name :Suraj Student ID: (101)bStudent Grade:[90, 85, 80]\n",
      "Average Grade: 91.0\n",
      "Student Detail: Name :Mansi Student ID: (102)bStudent Grade:[88, 95, 90]\n",
      "Average Grade: 91.0\n",
      "Student Detail: Name :Sam Student ID: (103)bStudent Grade:[80, 95, 85]\n"
     ]
    }
   ],
   "source": [
    "class Management:\n",
    "    def __init__(self,name,student_id,grades):\n",
    "        self.name = name\n",
    "        self.student_id = student_id\n",
    "        self.grades = grades\n",
    "        \n",
    "    def avg_grade(self):\n",
    "        total_grade = sum(self.grades)\n",
    "        average = total_grade/len(self.grades)\n",
    "        return average\n",
    "        \n",
    "    def display_student(self):\n",
    "        return f\"Name :{self.name} Student ID: ({self.student_id})bStudent Grade:{self.grades}\"\n",
    "    \n",
    "s1 = Management(\"Suraj\",101,[90,85,80])\n",
    "s2 = Management(\"Mansi\",102,[88,95,90])\n",
    "s3 = Management(\"Sam\",103,[80,95,85])\n",
    "\n",
    "print(\"Average Grade:\",s1.avg_grade())\n",
    "print(\"Student Detail:\",s1.display_student())\n",
    "\n",
    "print(\"Average Grade:\",s2.avg_grade())\n",
    "print(\"Student Detail:\",s2.display_student())\n",
    "\n",
    "print(\"Average Grade:\",s2.avg_grade())\n",
    "print(\"Student Detail:\",s3.display_student())"
   ]
  },
  {
   "cell_type": "markdown",
   "id": "4a5401a3-7434-4d1c-9aa0-f80bc212312e",
   "metadata": {},
   "source": [
    "Problem 8: Email Management Create a class representing an email with attributes like sender, recipient, and subject. Implement methods to send an email and display email details."
   ]
  },
  {
   "cell_type": "code",
   "execution_count": 13,
   "id": "eb899ec4-24eb-403f-ac88-d9c8a387855f",
   "metadata": {},
   "outputs": [
    {
     "name": "stdout",
     "output_type": "stream",
     "text": [
      "1st Email sent:  The Email is sent from Suraj\n",
      "To: John\n",
      "Subject:Hi! Tommorrow is Meeting\n",
      "2nd Email sent:  The Email is sent from John\n",
      "To: Suraj\n",
      "Subject:Yes,I will join\n",
      "1st Email Details:  Name of Sender: Suraj\n",
      "Name of Receiver: John\n",
      "Subject = Hi! Tommorrow is Meeting\n",
      "2nd Email Details:  Name of Sender: Suraj\n",
      "Name of Receiver: John\n",
      "Subject = Hi! Tommorrow is Meeting\n"
     ]
    }
   ],
   "source": [
    "class EmailManagement:\n",
    "    def __init__(self,sender,recipient,subject):\n",
    "        self.sender = sender\n",
    "        self.recipient = recipient\n",
    "        self.subject = subject\n",
    "        \n",
    "    def send(self):\n",
    "        return f\"The Email is sent from {self.sender}\\nTo: {self.recipient}\\nSubject:{self.subject}\"\n",
    "    \n",
    "    def dispay_details(self):\n",
    "        return f\"Name of Sender: {self.sender}\\nName of Receiver: {self.recipient}\\nSubject = {self.subject}\"\n",
    "    \n",
    "s1 = EmailManagement(\"Suraj\",\"John\",\"Hi! Tommorrow is Meeting\")\n",
    "s2 = EmailManagement(\"John\",\"Suraj\",\"Yes,I will join\")\n",
    "\n",
    "print(\"1st Email sent: \",s1.send())\n",
    "print(\"2nd Email sent: \",s2.send())\n",
    "\n",
    "print(\"1st Email Details: \",s1.dispay_details())\n",
    "print(\"2nd Email Details: \",s1.dispay_details())"
   ]
  },
  {
   "cell_type": "markdown",
   "id": "2ce7219c-1deb-40d4-bf7b-9085e7f43f82",
   "metadata": {},
   "source": [
    "Problem 9: Social Media Profile Create a class representing a social media profile with attributes like username and posts. Implement methods to add posts, display posts, and search for posts by keyword."
   ]
  },
  {
   "cell_type": "code",
   "execution_count": 14,
   "id": "756dbb72-d59c-4cd0-ab3a-0f1a57b43808",
   "metadata": {},
   "outputs": [],
   "source": [
    "class SocialMedia :\n",
    "    def __init__(self,username):\n",
    "        self.username = username\n",
    "        self.post = []\n",
    "        \n",
    "    def add_post(self,post):\n",
    "        self.post.append(post)\n",
    "        \n",
    "    def display(self):\n",
    "        return f\"Username:{self.username} Post:{' , '.join(self.post)}\"\n",
    "    \n",
    "    def search_post(self,keyword):\n",
    "        matching_post = [post for post in self.post if keyword.lower() in post.lower()]\n",
    "        if matching_post:\n",
    "            return f\"Post found matching Keyword : {','.join(matching_post)}\"\n",
    "        else:\n",
    "            return f\"No Matching Keyword Found\""
   ]
  },
  {
   "cell_type": "code",
   "execution_count": 15,
   "id": "31fd9273-8666-43c6-9df2-8cc0cf7bcb52",
   "metadata": {},
   "outputs": [],
   "source": [
    "suraj = SocialMedia(\"Suraj\")"
   ]
  },
  {
   "cell_type": "code",
   "execution_count": 16,
   "id": "7116ac6f-f2dc-4c8f-9f74-6efd603ee437",
   "metadata": {},
   "outputs": [],
   "source": [
    "suraj.add_post(\"Hello! This is my First Post\")\n",
    "suraj.add_post(\"This is My Festival Post\")\n",
    "suraj.add_post(\"Happy Weekend\")"
   ]
  },
  {
   "cell_type": "code",
   "execution_count": 17,
   "id": "3eb3c8af-4774-41a1-9273-f8f9b20ee40f",
   "metadata": {},
   "outputs": [
    {
     "data": {
      "text/plain": [
       "'Username:Suraj Post:Hello! This is my First Post , This is My Festival Post , Happy Weekend'"
      ]
     },
     "execution_count": 17,
     "metadata": {},
     "output_type": "execute_result"
    }
   ],
   "source": [
    "suraj.display()"
   ]
  },
  {
   "cell_type": "code",
   "execution_count": 18,
   "id": "3ed81caa-3aec-43f3-9d38-50462812ead2",
   "metadata": {},
   "outputs": [
    {
     "data": {
      "text/plain": [
       "'Post found matching Keyword : Hello! This is my First Post,This is My Festival Post'"
      ]
     },
     "execution_count": 18,
     "metadata": {},
     "output_type": "execute_result"
    }
   ],
   "source": [
    "keyword = \"is\"\n",
    "suraj.search_post(keyword)"
   ]
  },
  {
   "cell_type": "markdown",
   "id": "06c90da0-07fb-438a-a8d5-c8278b9a2729",
   "metadata": {},
   "source": [
    "Problem 10: ToDo List Create a class representing a ToDo list with attributes like tasks and due dates. Implement methods to add tasks, mark tasks as completed, and display pending tasks."
   ]
  },
  {
   "cell_type": "code",
   "execution_count": 19,
   "id": "4ed1e306-33e7-4115-95c1-23c5635c9eb9",
   "metadata": {},
   "outputs": [],
   "source": [
    "class ToDo:\n",
    "    def __init__(self,due_dates):\n",
    "        self.due_dates = due_dates\n",
    "        self.tasks = []\n",
    "        \n",
    "    def add_tasks(self,task):\n",
    "        self.tasks.append(task)\n",
    "        \n",
    "    def show_tasks(self):\n",
    "        return f\"Tasks : {','.join(self.tasks)}\"\n",
    "            \n",
    "    def mark_tasks(self, task_index):\n",
    "        if 0 <= task_index <= len(self.tasks):\n",
    "            self.tasks[task_index] = \" [Done] \"\n",
    "            return f\"Task {task_index + 1} is Marked\"\n",
    "        else:\n",
    "            return f\"Task is Invalid\""
   ]
  },
  {
   "cell_type": "code",
   "execution_count": 20,
   "id": "256109e6-a1ff-4751-9f64-2018c9315b6f",
   "metadata": {},
   "outputs": [],
   "source": [
    "suraj = ToDo(18)"
   ]
  },
  {
   "cell_type": "code",
   "execution_count": 21,
   "id": "fa673aa1-69dd-4542-96be-d815ed538192",
   "metadata": {},
   "outputs": [],
   "source": [
    "suraj.add_tasks(\"Test a Module\")\n",
    "suraj.add_tasks(\"Deploy a Module\")\n",
    "suraj.add_tasks(\"Attend a Meeting\")"
   ]
  },
  {
   "cell_type": "code",
   "execution_count": 22,
   "id": "ef481cfe-a489-4548-993c-062385486b7a",
   "metadata": {},
   "outputs": [
    {
     "data": {
      "text/plain": [
       "'Tasks : Test a Module,Deploy a Module,Attend a Meeting'"
      ]
     },
     "execution_count": 22,
     "metadata": {},
     "output_type": "execute_result"
    }
   ],
   "source": [
    "suraj.show_tasks()"
   ]
  },
  {
   "cell_type": "code",
   "execution_count": 23,
   "id": "4183d15f-ceb9-49c2-b6b3-3fd7ef286614",
   "metadata": {},
   "outputs": [
    {
     "name": "stdout",
     "output_type": "stream",
     "text": [
      "Task 1 is Marked\n",
      "[' [Done] ', 'Deploy a Module', 'Attend a Meeting']\n"
     ]
    }
   ],
   "source": [
    "print(suraj.mark_tasks(0))\n",
    "print(suraj.tasks)"
   ]
  },
  {
   "cell_type": "code",
   "execution_count": null,
   "id": "e13e23ad-a4e8-4947-acca-e12a93889762",
   "metadata": {},
   "outputs": [],
   "source": []
  }
 ],
 "metadata": {
  "kernelspec": {
   "display_name": "Python 3 (ipykernel)",
   "language": "python",
   "name": "python3"
  },
  "language_info": {
   "codemirror_mode": {
    "name": "ipython",
    "version": 3
   },
   "file_extension": ".py",
   "mimetype": "text/x-python",
   "name": "python",
   "nbconvert_exporter": "python",
   "pygments_lexer": "ipython3",
   "version": "3.10.8"
  }
 },
 "nbformat": 4,
 "nbformat_minor": 5
}
